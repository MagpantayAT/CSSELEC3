{
 "cells": [
  {
   "cell_type": "code",
   "execution_count": 2,
   "metadata": {},
   "outputs": [
    {
     "data": {
      "text/html": [
       "<div>\n",
       "<style scoped>\n",
       "    .dataframe tbody tr th:only-of-type {\n",
       "        vertical-align: middle;\n",
       "    }\n",
       "\n",
       "    .dataframe tbody tr th {\n",
       "        vertical-align: top;\n",
       "    }\n",
       "\n",
       "    .dataframe thead th {\n",
       "        text-align: right;\n",
       "    }\n",
       "</style>\n",
       "<table border=\"1\" class=\"dataframe\">\n",
       "  <thead>\n",
       "    <tr style=\"text-align: right;\">\n",
       "      <th></th>\n",
       "      <th>Transaction ID</th>\n",
       "      <th>Onion</th>\n",
       "      <th>Potato</th>\n",
       "      <th>Burger</th>\n",
       "      <th>Milk</th>\n",
       "      <th>Beer</th>\n",
       "    </tr>\n",
       "  </thead>\n",
       "  <tbody>\n",
       "    <tr>\n",
       "      <th>0</th>\n",
       "      <td>1</td>\n",
       "      <td>1</td>\n",
       "      <td>1</td>\n",
       "      <td>1</td>\n",
       "      <td>0</td>\n",
       "      <td>0</td>\n",
       "    </tr>\n",
       "    <tr>\n",
       "      <th>1</th>\n",
       "      <td>2</td>\n",
       "      <td>0</td>\n",
       "      <td>1</td>\n",
       "      <td>1</td>\n",
       "      <td>1</td>\n",
       "      <td>0</td>\n",
       "    </tr>\n",
       "    <tr>\n",
       "      <th>2</th>\n",
       "      <td>3</td>\n",
       "      <td>0</td>\n",
       "      <td>0</td>\n",
       "      <td>0</td>\n",
       "      <td>1</td>\n",
       "      <td>1</td>\n",
       "    </tr>\n",
       "    <tr>\n",
       "      <th>3</th>\n",
       "      <td>4</td>\n",
       "      <td>1</td>\n",
       "      <td>1</td>\n",
       "      <td>0</td>\n",
       "      <td>1</td>\n",
       "      <td>0</td>\n",
       "    </tr>\n",
       "    <tr>\n",
       "      <th>4</th>\n",
       "      <td>5</td>\n",
       "      <td>1</td>\n",
       "      <td>1</td>\n",
       "      <td>1</td>\n",
       "      <td>0</td>\n",
       "      <td>1</td>\n",
       "    </tr>\n",
       "    <tr>\n",
       "      <th>5</th>\n",
       "      <td>6</td>\n",
       "      <td>1</td>\n",
       "      <td>1</td>\n",
       "      <td>1</td>\n",
       "      <td>1</td>\n",
       "      <td>1</td>\n",
       "    </tr>\n",
       "  </tbody>\n",
       "</table>\n",
       "</div>"
      ],
      "text/plain": [
       "   Transaction ID  Onion  Potato  Burger  Milk  Beer\n",
       "0               1      1       1       1     0     0\n",
       "1               2      0       1       1     1     0\n",
       "2               3      0       0       0     1     1\n",
       "3               4      1       1       0     1     0\n",
       "4               5      1       1       1     0     1\n",
       "5               6      1       1       1     1     1"
      ]
     },
     "execution_count": 2,
     "metadata": {},
     "output_type": "execute_result"
    }
   ],
   "source": [
    "import numpy as np\n",
    "import pandas as pd\n",
    "\n",
    "df = pd.read_excel('Data 20190509/Example.xlsx', sheet_name = 'Example', index = 0)\n",
    "\n",
    "df"
   ]
  },
  {
   "cell_type": "markdown",
   "metadata": {},
   "source": [
    "### Assoc Counting"
   ]
  },
  {
   "cell_type": "code",
   "execution_count": 16,
   "metadata": {},
   "outputs": [
    {
     "name": "stdout",
     "output_type": "stream",
     "text": [
      "confidence 0.6666666666666666\n",
      "lift 1.0\n"
     ]
    }
   ],
   "source": [
    "ante = 'Beer'\n",
    "cons = 'Milk'\n",
    "\n",
    "num = float(len(df))\n",
    "\n",
    "# RULE: beer => milk\n",
    "\n",
    "supp_x = df[ante].sum()/num\n",
    "supp_y = df[cons].sum()/num\n",
    "\n",
    "# Confidence beer => milk\n",
    "conf = len(df[(df[ante] == 1) & (df[cons] == 1)].index)/num/supp_x # get all with beer and milk\n",
    "print(\"confidence\", conf)\n",
    "\n",
    "lift = conf/supp_y\n",
    "print(\"lift\", lift)"
   ]
  },
  {
   "cell_type": "markdown",
   "metadata": {},
   "source": [
    "### Exercise\n",
    "Given a min support of threshold of 0.45, provide candidate rules for the dataset.\n",
    "Compute confidence/lift for each"
   ]
  },
  {
   "cell_type": "code",
   "execution_count": null,
   "metadata": {},
   "outputs": [],
   "source": []
  },
  {
   "cell_type": "markdown",
   "metadata": {},
   "source": [
    "### Apyori"
   ]
  },
  {
   "cell_type": "code",
   "execution_count": 21,
   "metadata": {},
   "outputs": [
    {
     "name": "stdout",
     "output_type": "stream",
     "text": [
      "['Transaction ID', 'Onion', 'Potato', 'Burger']\n",
      "['Potato', 'Burger', 'Milk']\n",
      "['Milk', 'Beer']\n",
      "['Onion', 'Potato', 'Milk']\n",
      "['Onion', 'Potato', 'Burger', 'Beer']\n",
      "['Onion', 'Potato', 'Burger', 'Milk', 'Beer']\n",
      "frozenset({'Burger'})\n",
      "frozenset({'Milk'})\n",
      "frozenset({'Onion'})\n",
      "frozenset({'Potato'})\n",
      "frozenset({'Potato', 'Burger'})\n",
      "frozenset({'Potato', 'Onion'})\n"
     ]
    }
   ],
   "source": [
    "# conda install -c auto apriori\n",
    "from apyori import apriori\n",
    "\n",
    "trans = []\n",
    "item_list = df.columns\n",
    "\n",
    "for i, row in df.iterrows():\n",
    "    tmp = [item for item in item_list if row[item] == 1]\n",
    "    print(tmp)\n",
    "    trans.append(tmp)\n",
    "    \n",
    "assoc_rules = apriori(trans, min_support=0.51,min_confidence=0.5,)\n",
    "assoc_results = list(assoc_rules)\n",
    "\n",
    "for rule in assoc_results:\n",
    "    print(rule.items)"
   ]
  }
 ],
 "metadata": {
  "kernelspec": {
   "display_name": "Python 3",
   "language": "python",
   "name": "python3"
  },
  "language_info": {
   "codemirror_mode": {
    "name": "ipython",
    "version": 3
   },
   "file_extension": ".py",
   "mimetype": "text/x-python",
   "name": "python",
   "nbconvert_exporter": "python",
   "pygments_lexer": "ipython3",
   "version": "3.6.4"
  }
 },
 "nbformat": 4,
 "nbformat_minor": 2
}
